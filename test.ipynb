{
 "cells": [
  {
   "cell_type": "code",
   "execution_count": 1,
   "metadata": {},
   "outputs": [
    {
     "name": "stdout",
     "output_type": "stream",
     "text": [
      "m:\n",
      "variables:\n",
      "x_0 (type: binary)   y_0_0 (type: binary)   slk_0_0 (type: binary)   slk_1_0 (type: binary)   slk_2_0 (type: binary)   slk_4_0 (type: binary)   slk_4_1 (type: binary)   slk_5_0 (type: binary)   slk_5_1 (type: binary)   slk_6_0 (type: binary)   slk_6_1 (type: binary)   slk_7_0 (type: binary)\n",
      "\n",
      "obj:\n",
      "min 3 * y_0_0 + 4 * x_0\n",
      "\n",
      "s.t.:\n",
      "1 * x_0 + 1 * slk_0_0 == 1\n",
      "-1 * x_0 + -1 * slk_1_0 == -1\n",
      "1 * x_0 + -1 * slk_2_0 == 0\n",
      "1 * x_0 == 1\n",
      "1 * y_0_0 + 1 * x_0 + 1 * slk_4_0 + 1 * slk_4_1 == 2\n",
      "1 * y_0_0 + 1 * x_0 + -1 * slk_5_0 + -1 * slk_5_1 == 0\n",
      "1 * y_0_0 + 1 * x_0 + -1 * slk_6_0 + -1 * slk_6_1 == 0\n",
      "1 * y_0_0 + 1 * x_0 + -1 * slk_7_0 == 1\n",
      "1 * y_0_0 + 1 * x_0 == 3\n",
      "-1 * y_0_0 + -1 * x_0 == -3\n",
      "\n",
      "penalty_lambda:\n",
      "32767\n",
      "\n",
      "\n"
     ]
    }
   ],
   "source": [
    "from choco.model.lin_constr_bin_opt import LinearConstrainedBinaryOptimization\n",
    "if __name__ == '__main__':\n",
    "    m = LinearConstrainedBinaryOptimization()\n",
    "    num_facilities = 1\n",
    "    num_demands = 1\n",
    "    x = m.addVars(num_facilities, name=\"x\")\n",
    "    y = m.addVars(num_demands, num_facilities, name=\"y\")\n",
    "    m.setObjective(sum(3 * y[i, j] for i in range(num_demands) for j in range(num_facilities)) + sum(4 * x[j] for j in range(num_facilities)), 'min')\n",
    "\n",
    "    m.addConstrs((2 * x[j] <= 2 + x[j] for i in range(num_demands) for j in range(num_facilities)))\n",
    "    m.addConstrs((-2 <= -x[j] for i in range(num_demands) for j in range(num_facilities)))\n",
    "    m.addConstrs((x[j] >= -1 for i in range(num_demands) for j in range(num_facilities)))\n",
    "    m.addConstrs((x[j] >= 1 for i in range(num_demands) for j in range(num_facilities)))\n",
    "    m.addConstrs((y[i, j] + x[j] <=  2 for i in range(num_demands) for j in range(num_facilities)))\n",
    "    m.addConstrs((y[i, j] + x[j] + 10 >=  10 for i in range(num_demands) for j in range(num_facilities)))\n",
    "    m.addConstrs((y[i, j] + x[j] + 10 >=  -10 for i in range(num_demands) for j in range(num_facilities)))\n",
    "    m.addConstrs((y[i, j] + x[j] + 10 >=  11 for i in range(num_demands) for j in range(num_facilities)))\n",
    "    m.addConstrs((y[i, j] + x[j] + 10 >=  13 for i in range(num_demands) for j in range(num_facilities)))\n",
    "    m.addConstrs((10 >= 13 - y[i, j] - x[j] for i in range(num_demands) for j in range(num_facilities)))\n",
    "\n",
    "\n",
    "    # m.optimize()\n",
    "    print(m)"
   ]
  }
 ],
 "metadata": {
  "kernelspec": {
   "display_name": "choco",
   "language": "python",
   "name": "python3"
  },
  "language_info": {
   "codemirror_mode": {
    "name": "ipython",
    "version": 3
   },
   "file_extension": ".py",
   "mimetype": "text/x-python",
   "name": "python",
   "nbconvert_exporter": "python",
   "pygments_lexer": "ipython3",
   "version": "3.10.14"
  }
 },
 "nbformat": 4,
 "nbformat_minor": 2
}
