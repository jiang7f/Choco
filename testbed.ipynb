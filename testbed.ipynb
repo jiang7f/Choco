{
 "cells": [
  {
   "cell_type": "code",
   "execution_count": 3,
   "metadata": {},
   "outputs": [
    {
     "name": "stdout",
     "output_type": "stream",
     "text": [
      "          ┌─┐┌───┐┌─┐   \n",
      "q_0: ─────┤M├┤ X ├┤M├───\n",
      "     ┌───┐└╥┘└┬─┬┘└╥┘┌─┐\n",
      "q_1: ┤ H ├─╫──┤M├──╫─┤M├\n",
      "     └───┘ ║  └╥┘  ║ └╥┘\n",
      "c: 2/══════╩═══╩═══╩══╩═\n",
      "           0   1   0  1 \n",
      "Measurement counts: {'01': 526, '11': 498}\n"
     ]
    }
   ],
   "source": [
    "from qiskit import QuantumCircuit\n",
    "from qiskit_aer import AerSimulator\n",
    "from qiskit.transpiler.preset_passmanagers import generate_preset_pass_manager\n",
    "from qiskit_ibm_runtime import SamplerV2 as Sampler\n",
    "\n",
    "# 创建量子电路\n",
    "qc = QuantumCircuit(2, 2)\n",
    "qc.h(1)\n",
    "qc.measure(range(2), range(2))\n",
    "qc.x(0) \n",
    "qc.measure(range(2), range(2))\n",
    "\n",
    "# 打印电路\n",
    "print(qc.draw())\n",
    "\n",
    "# 初始化模拟器\n",
    "aer = AerSimulator()\n",
    "CORE_BASIS_GATES = [\"measure\", \"cx\", \"id\", \"rz\", \"sx\", \"x\"]\n",
    "generate_preset_pass_manager(optimization_level=2, basis_gates=CORE_BASIS_GATES)\n",
    "\n",
    "# 创建采样器并运行电路\n",
    "sampler = Sampler(mode=aer)\n",
    "job = sampler.run([qc], shots=1024)\n",
    "\n",
    "# 获取结果\n",
    "result = job.result()\n",
    "pub_result = result[0]\n",
    "\n",
    "# 提取每次测量的结果\n",
    "counts = pub_result.data.c.get_counts()\n",
    "print(\"Measurement counts:\", counts)\n"
   ]
  },
  {
   "cell_type": "code",
   "execution_count": 81,
   "metadata": {},
   "outputs": [
    {
     "name": "stdout",
     "output_type": "stream",
     "text": [
      "2\n",
      "[0.5 0.  0.  0.5]\n"
     ]
    }
   ],
   "source": [
    "from qiskit import QuantumCircuit\n",
    "from qiskit.quantum_info import Statevector\n",
    "\n",
    "# 创建量子电路\n",
    "num_qubits = 2\n",
    "qc = QuantumCircuit(num_qubits)\n",
    "\n",
    "# 添加量子门（示例）\n",
    "qc.h(0)\n",
    "qc.cx(0, 1)\n",
    "# 获取理想状态向量\n",
    "statevector = Statevector.from_instruction(qc)\n",
    "\n",
    "# 计算理论概率分布\n",
    "probabilities = statevector.probabilities()\n",
    "import numpy as np\n",
    "print(np.count_nonzero(probabilities))\n",
    "# 打印结果\n",
    "print(probabilities)\n"
   ]
  },
  {
   "cell_type": "code",
   "execution_count": 67,
   "metadata": {},
   "outputs": [
    {
     "name": "stdout",
     "output_type": "stream",
     "text": [
      "          ┌─┐┌───┐┌─┐┌───┐   ┌─┐\n",
      "q_0: ─────┤M├┤ H ├┤M├┤ X ├───┤M├\n",
      "     ┌───┐└╥┘└┬─┬┘└╥┘└┬─┬┘┌─┐└╥┘\n",
      "q_1: ┤ X ├─╫──┤M├──╫──┤M├─┤M├─╫─\n",
      "     └───┘ ║  └╥┘  ║  └╥┘ └╥┘ ║ \n",
      "c: 2/══════╩═══╩═══╩═══╩═══╩══╩═\n",
      "           0   1   0   1   1  0 \n",
      "{'11': 535, '10': 489}\n"
     ]
    }
   ],
   "source": [
    "from qiskit import QuantumCircuit\n",
    "from qiskit_aer import AerSimulator\n",
    "from qiskit.transpiler.preset_passmanagers import generate_preset_pass_manager\n",
    "from qiskit_ibm_runtime import SamplerV2 as Sampler\n",
    "qc = QuantumCircuit(2, 2)\n",
    "qc.x(1)\n",
    "qc.measure(range(2),range(2))\n",
    "qc.h(0)\n",
    "qc.measure(range(2),range(2))\n",
    "qc.x(0)\n",
    "qc.measure(range(2),range(2))\n",
    "# qc.measure_all()\n",
    "print(qc.draw())\n",
    "aer = AerSimulator()\n",
    "CORE_BASIS_GATES = [\"measure\", \"cx\", \"id\", \"rz\", \"sx\", \"x\"]\n",
    "generate_preset_pass_manager(optimization_level=2, basis_gates=CORE_BASIS_GATES,)\n",
    "\n",
    "sampler = Sampler(mode=aer)\n",
    "job = sampler.run([qc], shots=1024)\n",
    "result = job.result()\n",
    "pub_result = result[0]\n",
    "counts = pub_result.data.c.get_counts()\n",
    "print(counts)"
   ]
  },
  {
   "cell_type": "code",
   "execution_count": 58,
   "metadata": {},
   "outputs": [
    {
     "ename": "ImportError",
     "evalue": "cannot import name 'Aer' from 'qiskit' (/home/jiangqifan/Tools/anaconda3/envs/choco/lib/python3.10/site-packages/qiskit/__init__.py)",
     "output_type": "error",
     "traceback": [
      "\u001b[0;31m---------------------------------------------------------------------------\u001b[0m",
      "\u001b[0;31mImportError\u001b[0m                               Traceback (most recent call last)",
      "Cell \u001b[0;32mIn[58], line 1\u001b[0m\n\u001b[0;32m----> 1\u001b[0m \u001b[38;5;28;01mfrom\u001b[39;00m \u001b[38;5;21;01mqiskit\u001b[39;00m \u001b[38;5;28;01mimport\u001b[39;00m QuantumCircuit, Aer, execute\n\u001b[1;32m      2\u001b[0m \u001b[38;5;28;01mfrom\u001b[39;00m \u001b[38;5;21;01mqiskit\u001b[39;00m\u001b[38;5;21;01m.\u001b[39;00m\u001b[38;5;21;01mquantum_info\u001b[39;00m \u001b[38;5;28;01mimport\u001b[39;00m Statevector\n\u001b[1;32m      4\u001b[0m \u001b[38;5;66;03m# 创建量子电路\u001b[39;00m\n",
      "\u001b[0;31mImportError\u001b[0m: cannot import name 'Aer' from 'qiskit' (/home/jiangqifan/Tools/anaconda3/envs/choco/lib/python3.10/site-packages/qiskit/__init__.py)"
     ]
    }
   ],
   "source": [
    "from qiskit import QuantumCircuit, Aer, execute\n",
    "from qiskit.quantum_info import Statevector\n",
    "\n",
    "# 创建量子电路\n",
    "num_qubits = 10  # 可以调整为较小的量子比特数量\n",
    "qc = QuantumCircuit(num_qubits)\n",
    "\n",
    "# 添加量子门（示例）\n",
    "qc.h(0)\n",
    "for x in range(num_qubits):\n",
    "    qc.h(x)\n",
    "qc.cx(0, 1)\n",
    "\n",
    "# 使用Aer模拟器计算状态向量\n",
    "backend = Aer.get_backend('statevector_simulator')\n",
    "job = execute(qc, backend)\n",
    "result = job.result()\n",
    "statevector = result.get_statevector()\n",
    "\n",
    "# 计算理论概率分布\n",
    "probabilities = statevector.probabilities()\n",
    "\n",
    "# 打印非零概率的计数和概率分布\n",
    "import numpy as np\n",
    "print(np.count_nonzero(probabilities))\n",
    "print(probabilities)\n"
   ]
  },
  {
   "cell_type": "code",
   "execution_count": 42,
   "metadata": {},
   "outputs": [
    {
     "name": "stdout",
     "output_type": "stream",
     "text": [
      "          ┌─┐┌───┐┌─┐┌───┐   ┌─┐\n",
      "q_0: ─────┤M├┤ H ├┤M├┤ X ├───┤M├\n",
      "     ┌───┐└╥┘└┬─┬┘└╥┘└┬─┬┘┌─┐└╥┘\n",
      "q_1: ┤ X ├─╫──┤M├──╫──┤M├─┤M├─╫─\n",
      "     └───┘ ║  └╥┘  ║  └╥┘ └╥┘ ║ \n",
      "c: 2/══════╩═══╩═══╩═══╩═══╩══╩═\n",
      "           0   1   0   1   1  0 \n",
      "{'11': 508, '10': 516}\n"
     ]
    }
   ],
   "source": [
    "from qiskit import QuantumCircuit\n",
    "from qiskit_aer import AerSimulator\n",
    "from qiskit.transpiler.preset_passmanagers import generate_preset_pass_manager\n",
    "from qiskit_ibm_runtime import SamplerV2 as Sampler\n",
    "qc = QuantumCircuit(2, 2)\n",
    "qc.x(1)\n",
    "qc.measure(range(2),range(2))\n",
    "qc.h(0)\n",
    "qc.measure(range(2),range(2))\n",
    "qc.x(0)\n",
    "qc.measure(range(2),range(2))\n",
    "# qc.measure_all()\n",
    "print(qc.draw())\n",
    "aer = AerSimulator()\n",
    "CORE_BASIS_GATES = [\"measure\", \"cx\", \"id\", \"rz\", \"sx\", \"x\"]\n",
    "generate_preset_pass_manager(optimization_level=2, basis_gates=CORE_BASIS_GATES,)\n",
    "\n",
    "sampler = Sampler(mode=aer)\n",
    "job = sampler.run([qc], shots=1024)\n",
    "result = job.result()\n",
    "pub_result = result[0]\n",
    "counts = pub_result.data.c.get_counts()\n",
    "print(counts)"
   ]
  },
  {
   "cell_type": "code",
   "execution_count": null,
   "metadata": {},
   "outputs": [],
   "source": [
    "from qiskit import QuantumCircuit\n",
    "from qiskit_aer import AerSimulator\n",
    "from qiskit.transpiler.preset_passmanagers import generate_preset_pass_manager\n",
    "from qiskit_ibm_runtime import SamplerV2 as Sampler\n",
    "qc = QuantumCircuit(2, 2)\n",
    "qc.x(1)\n",
    "qc.measure(range(2),range(2))\n",
    "qc.h(0)\n",
    "qc.measure(range(2),range(2))\n",
    "qc.x(0)\n",
    "qc.measure(range(2),range(2))\n",
    "# qc.measure_all()\n",
    "print(qc.draw())\n",
    "aer = AerSimulator()\n",
    "CORE_BASIS_GATES = [\"measure\", \"cx\", \"id\", \"rz\", \"sx\", \"x\"]\n",
    "generate_preset_pass_manager(optimization_level=2, basis_gates=CORE_BASIS_GATES,)\n",
    "\n",
    "sampler = Sampler(mode=aer)\n",
    "job = sampler.run([qc], shots=1024)\n",
    "result = job.result()\n",
    "pub_result = result[0]\n",
    "counts = pub_result.data.c.get_counts()\n",
    "print(counts)"
   ]
  },
  {
   "cell_type": "code",
   "execution_count": null,
   "metadata": {},
   "outputs": [],
   "source": [
    "from qiskit import QuantumCircuit\n",
    "from qiskit_aer import AerSimulator\n",
    "from qiskit.transpiler.preset_passmanagers import generate_preset_pass_manager\n",
    "from qiskit_ibm_runtime import SamplerV2 as Sampler\n",
    "qc = QuantumCircuit(2, 2)\n",
    "qc.x(1)\n",
    "qc.measure(range(2),range(2))\n",
    "qc.h(0)\n",
    "qc.measure(range(2),range(2))\n",
    "qc.x(0)\n",
    "qc.measure(range(2),range(2))\n",
    "# qc.measure_all()\n",
    "print(qc.draw())\n",
    "aer = AerSimulator()\n",
    "CORE_BASIS_GATES = [\"measure\", \"cx\", \"id\", \"rz\", \"sx\", \"x\"]\n",
    "generate_preset_pass_manager(optimization_level=2, basis_gates=CORE_BASIS_GATES,)\n",
    "\n",
    "sampler = Sampler(mode=aer)\n",
    "job = sampler.run([qc], shots=1024)\n",
    "result = job.result()\n",
    "pub_result = result[0]\n",
    "counts = pub_result.data.c.get_counts()\n",
    "print(counts)"
   ]
  },
  {
   "cell_type": "code",
   "execution_count": 5,
   "metadata": {},
   "outputs": [
    {
     "data": {
      "text/html": [
       "<pre style=\"word-wrap: normal;white-space: pre;background: #fff0;line-height: 1.1;font-family: &quot;Courier New&quot;,Courier,monospace\">     ┌───┐     \n",
       "q_0: ┤ H ├──■──\n",
       "     └───┘┌─┴─┐\n",
       "q_1: ─────┤ X ├\n",
       "          └───┘</pre>"
      ],
      "text/plain": [
       "     ┌───┐     \n",
       "q_0: ┤ H ├──■──\n",
       "     └───┘┌─┴─┐\n",
       "q_1: ─────┤ X ├\n",
       "          └───┘"
      ]
     },
     "execution_count": 5,
     "metadata": {},
     "output_type": "execute_result"
    }
   ],
   "source": [
    "from qiskit import QuantumCircuit\n",
    "\n",
    "# 创建第一个电路\n",
    "qc1 = QuantumCircuit(2)\n",
    "qc1.h(0)  # 在第一个量子比特上应用Hadamard门\n",
    "\n",
    "# 创建第二个电路\n",
    "qc2 = QuantumCircuit(2)\n",
    "qc2.cx(0, 1)  # 在第一个和第二个量子比特之间应用CNOT门\n",
    "\n",
    "# 连接两个电路\n",
    "qc1.compose(qc2, inplace=True)\n",
    "\n",
    "# 绘制最终电路\n",
    "qc1.draw()\n"
   ]
  },
  {
   "cell_type": "code",
   "execution_count": 14,
   "metadata": {},
   "outputs": [
    {
     "data": {
      "text/html": [
       "<pre style=\"word-wrap: normal;white-space: pre;background: #fff0;line-height: 1.1;font-family: &quot;Courier New&quot;,Courier,monospace\">        ┌───┐ ░ ┌─┐             \n",
       "   q_0: ┤ H ├─░─┤M├─────■───────\n",
       "        └───┘ ░ └╥┘┌─┐┌─┴─┐     \n",
       "   q_1: ──────░──╫─┤M├┤ X ├──■──\n",
       "              ░  ║ └╥┘└───┘┌─┴─┐\n",
       "    q2: ─────────╫──╫──────┤ X ├\n",
       "                 ║  ║      └───┘\n",
       "meas: 2/═════════╩══╩═══════════\n",
       "                 0  1           </pre>"
      ],
      "text/plain": [
       "        ┌───┐ ░ ┌─┐             \n",
       "   q_0: ┤ H ├─░─┤M├─────■───────\n",
       "        └───┘ ░ └╥┘┌─┐┌─┴─┐     \n",
       "   q_1: ──────░──╫─┤M├┤ X ├──■──\n",
       "              ░  ║ └╥┘└───┘┌─┴─┐\n",
       "    q2: ─────────╫──╫──────┤ X ├\n",
       "                 ║  ║      └───┘\n",
       "meas: 2/═════════╩══╩═══════════\n",
       "                 0  1           "
      ]
     },
     "execution_count": 14,
     "metadata": {},
     "output_type": "execute_result"
    }
   ],
   "source": [
    "from qiskit import QuantumCircuit, QuantumRegister\n",
    "\n",
    "# 创建第一个电路，包含2个量子比特\n",
    "qc1 = QuantumCircuit(2)\n",
    "qc1.h(0)  # 在第一个量子比特上应用Hadamard门\n",
    "\n",
    "# 创建第二个电路，包含3个量子比特\n",
    "qc2 = QuantumCircuit(3)\n",
    "qc2.cx(0, 1)  # 在第一个和第二个量子比特之间应用CNOT门\n",
    "qc2.cx(1, 2)  # 在第二个和第三个量子比特之间应用CNOT门\n",
    "qc1.measure_all()\n",
    "# 在第一个电路中添加一个量子寄存器，以便可以连接第二个电路\n",
    "qc1.add_register(QuantumRegister(1, 'q2'))  # 添加一个量子比特\n",
    "\n",
    "# 连接两个电路\n",
    "qc1.compose(qc2, qubits=[0, 1, 2], inplace=True)\n",
    "\n",
    "# 绘制最终电路\n",
    "qc1.draw()\n"
   ]
  },
  {
   "cell_type": "code",
   "execution_count": null,
   "metadata": {},
   "outputs": [],
   "source": [
    "from qiskit import QuantumCircuit\n",
    "from qiskit_aer import AerSimulator\n",
    "from qiskit.transpiler.preset_passmanagers import generate_preset_pass_manager\n",
    "from qiskit_ibm_runtime import SamplerV2 as Sampler\n",
    "qc = QuantumCircuit(2, 2)\n",
    "qc.x(1)\n",
    "qc.measure(range(2),range(2))\n",
    "qc.h(0)\n",
    "qc.measure(range(2),range(2))\n",
    "qc.x(0)\n",
    "qc.measure(range(2),range(2))\n",
    "# qc.measure_all()\n",
    "print(qc.draw())\n",
    "aer = AerSimulator()\n",
    "CORE_BASIS_GATES = [\"measure\", \"cx\", \"id\", \"rz\", \"sx\", \"x\"]\n",
    "generate_preset_pass_manager(optimization_level=2, basis_gates=CORE_BASIS_GATES,)\n",
    "\n",
    "sampler = Sampler(mode=aer)\n",
    "job = sampler.run([qc], shots=1024)\n",
    "result = job.result()\n",
    "pub_result = result[0]\n",
    "counts = pub_result.data.c.get_counts()\n",
    "print(counts)"
   ]
  },
  {
   "cell_type": "code",
   "execution_count": 1,
   "metadata": {},
   "outputs": [
    {
     "name": "stdout",
     "output_type": "stream",
     "text": [
      "m:\n",
      "variables:\n",
      "x_0 (type: binary)   x_1 (type: binary)   y_0_0 (type: binary)   y_0_1 (type: binary)   y_1_0 (type: binary)   y_1_1 (type: binary)   slk_1_0 (type: binary)   slk_2_0 (type: binary)   slk_3_0 (type: binary)   slk_4_0 (type: binary)\n",
      "\n",
      "obj:\n",
      "min 3 * x_0 * y_0_0 + 3 * x_1 * y_0_1 + 3 * x_0 * y_1_0 + 3 * x_1 * y_1_1 + 4 * x_0 + 4 * x_1\n",
      "\n",
      "s.t.:\n",
      "1 * x_0 + 1 * y_0_0 + -1 * slk_1_0 == 1\n",
      "1 * x_1 + 1 * y_0_1 + -1 * slk_2_0 == 1\n",
      "1 * x_0 + 1 * y_1_0 + -1 * slk_3_0 == 1\n",
      "1 * x_1 + 1 * y_1_1 + -1 * slk_4_0 == 1\n",
      "\n",
      "\n",
      "{2: [([0, 2], 3), ([1, 3], 3), ([0, 4], 3), ([1, 5], 3)], 1: [([0], 4), ([1], 4)]}\n",
      "[[ 1  0  1  0  0  0 -1  0  0  0  1]\n",
      " [ 0  1  0  1  0  0  0 -1  0  0  1]\n",
      " [ 1  0  0  0  1  0  0  0 -1  0  1]\n",
      " [ 0  1  0  0  0  1  0  0  0 -1  1]]\n",
      "变量全取1结果:\n",
      "20\n",
      "最优解 by gurobi\n",
      "Restricted license - for non-production use only - expires 2025-11-24\n",
      "0.0\n"
     ]
    }
   ],
   "source": [
    "from choco.model.lin_constr_bin_opt import LinearConstrainedBinaryOptimization as Model\n",
    "if __name__ == '__main__':\n",
    "    m = Model()\n",
    "    num_facilities = 2\n",
    "    num_demands = 2\n",
    "    # m.addVar(name='jqf')\n",
    "    x = m.addVars(num_facilities, name=\"x\")\n",
    "    y = m.addVars(num_demands, num_facilities, name=\"y\")\n",
    "    m.setObjective(sum(3 * y[i, j] * x[j] for i in range(num_demands) for j in range(num_facilities)) + sum(4 * x[j] for j in range(num_facilities)), 'min')\n",
    "\n",
    "    m.addConstrs((x[j] + y[i, j] >= 1 for i in range(num_demands) for j in range(num_facilities)))\n",
    "    obj = m.generate_obj_function()\n",
    "    print(m)\n",
    "    print(m.obj_dct)\n",
    "    print(m.lin_constr_mtx)\n",
    "    print(\"变量全取1结果:\")\n",
    "    print(obj([1] * len(m.variables)))\n",
    "    print(\"最优解 by gurobi\")\n",
    "    print(m.get_best_cost())\n",
    "    # m.optimize()\n",
    "    "
   ]
  },
  {
   "cell_type": "code",
   "execution_count": 8,
   "metadata": {},
   "outputs": [
    {
     "name": "stdout",
     "output_type": "stream",
     "text": [
      "自动转不等式约束测试\n",
      "m:\n",
      "variables:\n",
      "jqf (type: binary)   x_0 (type: binary)   y_0_0 (type: binary)   slk_1_0 (type: binary)   slk_2_0 (type: binary)   slk_3_0 (type: binary)   slk_5_0 (type: binary)   slk_5_1 (type: binary)   slk_6_0 (type: binary)   slk_6_1 (type: binary)   slk_7_0 (type: binary)   slk_7_1 (type: binary)   slk_8_0 (type: binary)\n",
      "\n",
      "obj:\n",
      "min 3 * y_0_0 + 4 * x_0\n",
      "\n",
      "s.t.:\n",
      "1 * x_0 + 1 * slk_1_0 == 1\n",
      "-1 * x_0 + -1 * slk_2_0 == -1\n",
      "1 * x_0 + -1 * slk_3_0 == 0\n",
      "1 * x_0 == 1\n",
      "1 * y_0_0 + 1 * x_0 + 1 * slk_5_0 + 1 * slk_5_1 == 2\n",
      "1 * y_0_0 + 1 * x_0 + -1 * slk_6_0 + -1 * slk_6_1 == 0\n",
      "1 * y_0_0 + 1 * x_0 + -1 * slk_7_0 + -1 * slk_7_1 == 0\n",
      "1 * y_0_0 + 1 * x_0 + -1 * slk_8_0 == 1\n",
      "1 * y_0_0 + 1 * x_0 == 3\n",
      "-1 * y_0_0 + -1 * x_0 == -3\n",
      "\n",
      "\n"
     ]
    }
   ],
   "source": [
    "from choco.model.lin_constr_bin_opt import LinearConstrainedBinaryOptimization as Model\n",
    "if __name__ == '__main__':\n",
    "    m = Model()\n",
    "    num_facilities = 1\n",
    "    num_demands = 1\n",
    "    m.addVar(name='jqf')\n",
    "    x = m.addVars(num_facilities, name=\"x\")\n",
    "    y = m.addVars(num_demands, num_facilities, name=\"y\")\n",
    "    m.setObjective(sum(3 * y[i, j] for i in range(num_demands) for j in range(num_facilities)) + sum(4 * x[j] for j in range(num_facilities)), 'min')\n",
    "    print(\"自动转不等式约束测试\")\n",
    "    m.addConstrs((x[j] <= 2 for i in range(num_demands) for j in range(num_facilities)))\n",
    "    m.addConstrs((-2 <= -x[j] for i in range(num_demands) for j in range(num_facilities)))\n",
    "    m.addConstrs((x[j] >= -1 for i in range(num_demands) for j in range(num_facilities)))\n",
    "    m.addConstrs((x[j] >= 1 for i in range(num_demands) for j in range(num_facilities)))\n",
    "    m.addConstrs((y[i, j] + x[j] <=  2 for i in range(num_demands) for j in range(num_facilities)))\n",
    "    m.addConstrs((y[i, j] + x[j] + 10 >=  10 for i in range(num_demands) for j in range(num_facilities)))\n",
    "    m.addConstrs((y[i, j] + x[j] + 10 >=  -10 for i in range(num_demands) for j in range(num_facilities)))\n",
    "    m.addConstrs((y[i, j] + x[j] + 10 >=  11 for i in range(num_demands) for j in range(num_facilities)))\n",
    "    m.addConstrs((y[i, j] + x[j] + 10 >=  13 for i in range(num_demands) for j in range(num_facilities)))\n",
    "    m.addConstrs((10 >= 13 - y[i, j] - x[j] for i in range(num_demands) for j in range(num_facilities)))\n",
    "    obj = m.generate_obj_function()\n",
    "    # m.optimize()\n",
    "    print(m)"
   ]
  }
 ],
 "metadata": {
  "kernelspec": {
   "display_name": "choco",
   "language": "python",
   "name": "python3"
  },
  "language_info": {
   "codemirror_mode": {
    "name": "ipython",
    "version": 3
   },
   "file_extension": ".py",
   "mimetype": "text/x-python",
   "name": "python",
   "nbconvert_exporter": "python",
   "pygments_lexer": "ipython3",
   "version": "3.10.14"
  }
 },
 "nbformat": 4,
 "nbformat_minor": 2
}
