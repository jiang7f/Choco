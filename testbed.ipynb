{
 "cells": [
  {
   "cell_type": "code",
   "execution_count": 7,
   "metadata": {},
   "outputs": [
    {
     "name": "stdout",
     "output_type": "stream",
     "text": [
      "m:\n",
      "variables:\n",
      "jqf (type: binary)   x_0 (type: binary)   y_0_0 (type: binary)\n",
      "\n",
      "obj:\n",
      "min 3 * y_0_0 + 4 * x_0\n",
      "\n",
      "s.t.:\n",
      "1 * x_0 == 1\n",
      "\n",
      "\n",
      "变量全取1结果:\n",
      "7\n",
      "最优解 by gurobi\n",
      "4.0\n"
     ]
    }
   ],
   "source": [
    "from Choco.model.lin_constr_bin_opt import LinearConstrainedBinaryOptimization as Model\n",
    "if __name__ == '__main__':\n",
    "    m = Model()\n",
    "    num_facilities = 1\n",
    "    num_demands = 1\n",
    "    m.addVar(name='jqf')\n",
    "    x = m.addVars(num_facilities, name=\"x\")\n",
    "    y = m.addVars(num_demands, num_facilities, name=\"y\")\n",
    "    m.setObjective(sum(3 * y[i, j] for i in range(num_demands) for j in range(num_facilities)) + sum(4 * x[j] for j in range(num_facilities)), 'min')\n",
    "\n",
    "    m.addConstrs((x[j] >= 1 for i in range(num_demands) for j in range(num_facilities)))\n",
    "    obj = m.generate_obj_function()\n",
    "    print(m)\n",
    "    print(\"变量全取1结果:\")\n",
    "    print(obj([1] * len(m.variables)))\n",
    "    print(\"最优解 by gurobi\")\n",
    "    print(m.get_best_cost())\n",
    "    # m.optimize()\n",
    "    "
   ]
  },
  {
   "cell_type": "code",
   "execution_count": 8,
   "metadata": {},
   "outputs": [
    {
     "name": "stdout",
     "output_type": "stream",
     "text": [
      "自动转不等式约束测试\n",
      "m:\n",
      "variables:\n",
      "jqf (type: binary)   x_0 (type: binary)   y_0_0 (type: binary)   slk_1_0 (type: binary)   slk_2_0 (type: binary)   slk_3_0 (type: binary)   slk_5_0 (type: binary)   slk_5_1 (type: binary)   slk_6_0 (type: binary)   slk_6_1 (type: binary)   slk_7_0 (type: binary)   slk_7_1 (type: binary)   slk_8_0 (type: binary)\n",
      "\n",
      "obj:\n",
      "min 3 * y_0_0 + 4 * x_0\n",
      "\n",
      "s.t.:\n",
      "1 * x_0 + 1 * slk_1_0 == 1\n",
      "-1 * x_0 + -1 * slk_2_0 == -1\n",
      "1 * x_0 + -1 * slk_3_0 == 0\n",
      "1 * x_0 == 1\n",
      "1 * y_0_0 + 1 * x_0 + 1 * slk_5_0 + 1 * slk_5_1 == 2\n",
      "1 * y_0_0 + 1 * x_0 + -1 * slk_6_0 + -1 * slk_6_1 == 0\n",
      "1 * y_0_0 + 1 * x_0 + -1 * slk_7_0 + -1 * slk_7_1 == 0\n",
      "1 * y_0_0 + 1 * x_0 + -1 * slk_8_0 == 1\n",
      "1 * y_0_0 + 1 * x_0 == 3\n",
      "-1 * y_0_0 + -1 * x_0 == -3\n",
      "\n",
      "\n"
     ]
    }
   ],
   "source": [
    "from Choco.model.lin_constr_bin_opt import LinearConstrainedBinaryOptimization as Model\n",
    "if __name__ == '__main__':\n",
    "    m = Model()\n",
    "    num_facilities = 1\n",
    "    num_demands = 1\n",
    "    m.addVar(name='jqf')\n",
    "    x = m.addVars(num_facilities, name=\"x\")\n",
    "    y = m.addVars(num_demands, num_facilities, name=\"y\")\n",
    "    m.setObjective(sum(3 * y[i, j] for i in range(num_demands) for j in range(num_facilities)) + sum(4 * x[j] for j in range(num_facilities)), 'min')\n",
    "    print(\"自动转不等式约束测试\")\n",
    "    m.addConstrs((x[j] <= 2 for i in range(num_demands) for j in range(num_facilities)))\n",
    "    m.addConstrs((-2 <= -x[j] for i in range(num_demands) for j in range(num_facilities)))\n",
    "    m.addConstrs((x[j] >= -1 for i in range(num_demands) for j in range(num_facilities)))\n",
    "    m.addConstrs((x[j] >= 1 for i in range(num_demands) for j in range(num_facilities)))\n",
    "    m.addConstrs((y[i, j] + x[j] <=  2 for i in range(num_demands) for j in range(num_facilities)))\n",
    "    m.addConstrs((y[i, j] + x[j] + 10 >=  10 for i in range(num_demands) for j in range(num_facilities)))\n",
    "    m.addConstrs((y[i, j] + x[j] + 10 >=  -10 for i in range(num_demands) for j in range(num_facilities)))\n",
    "    m.addConstrs((y[i, j] + x[j] + 10 >=  11 for i in range(num_demands) for j in range(num_facilities)))\n",
    "    m.addConstrs((y[i, j] + x[j] + 10 >=  13 for i in range(num_demands) for j in range(num_facilities)))\n",
    "    m.addConstrs((10 >= 13 - y[i, j] - x[j] for i in range(num_demands) for j in range(num_facilities)))\n",
    "    obj = m.generate_obj_function()\n",
    "    # m.optimize()\n",
    "    print(m)"
   ]
  }
 ],
 "metadata": {
  "kernelspec": {
   "display_name": "choco",
   "language": "python",
   "name": "python3"
  },
  "language_info": {
   "codemirror_mode": {
    "name": "ipython",
    "version": 3
   },
   "file_extension": ".py",
   "mimetype": "text/x-python",
   "name": "python",
   "nbconvert_exporter": "python",
   "pygments_lexer": "ipython3",
   "version": "3.10.14"
  }
 },
 "nbformat": 4,
 "nbformat_minor": 2
}
